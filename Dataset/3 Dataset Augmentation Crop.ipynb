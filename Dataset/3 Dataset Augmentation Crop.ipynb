{
 "cells": [
  {
   "cell_type": "markdown",
   "metadata": {},
   "source": [
    "## Third Step of data augmentation: Cropping the images into 424 by 424 size squares\n"
   ]
  },
  {
   "cell_type": "code",
   "execution_count": 12,
   "metadata": {},
   "outputs": [],
   "source": [
    "import cv2\n",
    "import numpy as np\n",
    "import matplotlib.pyplot as plt\n",
    "%matplotlib inline\n",
    "from random import seed\n",
    "from random import choice\n",
    "import os\n"
   ]
  },
  {
   "cell_type": "code",
   "execution_count": 13,
   "metadata": {},
   "outputs": [],
   "source": [
    "#specify dimension size\n",
    "dim = 424"
   ]
  },
  {
   "cell_type": "code",
   "execution_count": 14,
   "metadata": {},
   "outputs": [],
   "source": [
    "#create directory to save output when croping tiles\n",
    "os.mkdir(\"C_Target\") \n",
    "os.mkdir(\"C_Input\") "
   ]
  },
  {
   "cell_type": "code",
   "execution_count": 15,
   "metadata": {},
   "outputs": [],
   "source": [
    "#loop to crop the tiles from the images\n",
    "\n",
    "h = 0\n",
    "\n",
    "for k in range(1,150,1):\n",
    "    seed(468556258625 + h)\n",
    "    name_l = 'R_Target/{}.jpg'. format(k)\n",
    "    img_line = cv2.imread(name_l,0)\n",
    "    \n",
    "    name_s = 'R_Input/{}.jpg'. format(k)\n",
    "    img_ske = cv2.imread(name_s,0)\n",
    "    \n",
    "    \n",
    "\n",
    "    if (len(img_line) > 423) and (len(img_line[0]) > 423):\n",
    "        img_line_crop = img_line[0:len(img_line)-dim, 0:(len(img_line[0]) - dim)]\n",
    "    \n",
    "        x = [i for i in range(len(img_line_crop))]\n",
    "        y = [i for i in range(len(img_line_crop[0]))]\n",
    "\n",
    "        for i in range(len(img_line)//300):\n",
    "            h = h + 1\n",
    "            selection_x = choice(x)\n",
    "            selection_y = choice(y)\n",
    "            ske_sec = img_ske[selection_x:selection_x +dim, selection_y: selection_y + dim]\n",
    "            line_sec = img_line[selection_x:selection_x +dim, selection_y: selection_y + dim]\n",
    "\n",
    "            sfile = 'C_Input/{}.jpg'.format(h)\n",
    "            cv2.imwrite(sfile, (ske_sec))\n",
    "\n",
    "            lfile = 'C_Target/{}.jpg'.format(h)\n",
    "            cv2.imwrite(lfile, (line_sec))\n",
    "        "
   ]
  }
 ],
 "metadata": {
  "kernelspec": {
   "display_name": "Python 3",
   "language": "python",
   "name": "python3"
  },
  "language_info": {
   "codemirror_mode": {
    "name": "ipython",
    "version": 3
   },
   "file_extension": ".py",
   "mimetype": "text/x-python",
   "name": "python",
   "nbconvert_exporter": "python",
   "pygments_lexer": "ipython3",
   "version": "3.8.3"
  }
 },
 "nbformat": 4,
 "nbformat_minor": 4
}
