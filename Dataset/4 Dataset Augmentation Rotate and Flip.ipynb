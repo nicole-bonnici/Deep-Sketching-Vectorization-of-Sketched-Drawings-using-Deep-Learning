{
 "cells": [
  {
   "cell_type": "markdown",
   "metadata": {},
   "source": [
    "## Final Step of data augmentation:Randommly rotating and flipping\n"
   ]
  },
  {
   "cell_type": "code",
   "execution_count": 5,
   "metadata": {},
   "outputs": [],
   "source": [
    "import cv2\n",
    "import numpy as np\n",
    "import matplotlib.pyplot as plt\n",
    "%matplotlib inline\n",
    "from random import seed\n",
    "from random import choice\n",
    "import os"
   ]
  },
  {
   "cell_type": "code",
   "execution_count": 8,
   "metadata": {},
   "outputs": [],
   "source": [
    "#create directory to save rotated and flipped images in\n",
    "os.mkdir(\"Final_Target\") \n",
    "os.mkdir(\"Final_Input\") "
   ]
  },
  {
   "cell_type": "code",
   "execution_count": 9,
   "metadata": {},
   "outputs": [],
   "source": [
    "#loop to randomly flip and rotate images\n",
    "for k in range(1,218,1):\n",
    "    seed(468556258625 + k)\n",
    "    name_l = 'C_Target/{}.jpg'. format(k)\n",
    "    img_line = cv2.imread(name_l, 0)\n",
    "    \n",
    "    name_s = 'C_Input/{}.jpg'. format(k)\n",
    "    img_ske = cv2.imread(name_s, 0)\n",
    "    \n",
    "    possible = [i for i in range(-180,180,1)]\n",
    "    angle = choice(possible)\n",
    "\n",
    "    rot_mat = cv2.getRotationMatrix2D((212,212), angle, 1.0)\n",
    "    \n",
    "    ske_rotate  = cv2.warpAffine(img_ske, rot_mat,(424,424) , flags=cv2.INTER_LINEAR, borderMode=cv2.BORDER_CONSTANT, borderValue = 255)\n",
    "    lin_rotate  = cv2.warpAffine(img_line, rot_mat,(424,424) , flags=cv2.INTER_LINEAR, borderMode=cv2.BORDER_CONSTANT, borderValue = 255)\n",
    "    \n",
    "    flip_choice = choice([i for i in range(0,2,1)])\n",
    "    \n",
    "    if flip_choice == 1:\n",
    "        ske_rotate= cv2.flip(ske_rotate, 1)\n",
    "        lin_rotate= cv2.flip(lin_rotate, 1)\n",
    "    \n",
    "    sfile = 'Final_Input/{}.jpg'.format(k+3660)\n",
    "    cv2.imwrite(sfile, (ske_rotate))\n",
    "    \n",
    "    sfile = 'Final_Target/{}.jpg'.format(k+3660)\n",
    "    cv2.imwrite(sfile, (lin_rotate)) "
   ]
  }
 ],
 "metadata": {
  "kernelspec": {
   "display_name": "Python 3",
   "language": "python",
   "name": "python3"
  },
  "language_info": {
   "codemirror_mode": {
    "name": "ipython",
    "version": 3
   },
   "file_extension": ".py",
   "mimetype": "text/x-python",
   "name": "python",
   "nbconvert_exporter": "python",
   "pygments_lexer": "ipython3",
   "version": "3.8.3"
  }
 },
 "nbformat": 4,
 "nbformat_minor": 4
}
