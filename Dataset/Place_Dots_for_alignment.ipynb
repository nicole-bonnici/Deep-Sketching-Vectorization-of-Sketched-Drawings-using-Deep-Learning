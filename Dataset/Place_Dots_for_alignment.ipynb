{
 "cells": [
  {
   "cell_type": "markdown",
   "metadata": {},
   "source": [
    "## Placing red Dots for alignment after printing and scanning "
   ]
  },
  {
   "cell_type": "code",
   "execution_count": 1,
   "metadata": {},
   "outputs": [],
   "source": [
    "import cv2\n",
    "import numpy as np\n",
    "import matplotlib.pyplot as plt\n",
    "import os.path\n",
    "%matplotlib inline"
   ]
  },
  {
   "cell_type": "markdown",
   "metadata": {},
   "source": [
    "Loop to create draw dots in each corner of the images inputted. It is important that the input and output address is specified and that the inputs are named as consecutive numbers"
   ]
  },
  {
   "cell_type": "code",
   "execution_count": 8,
   "metadata": {},
   "outputs": [
    {
     "name": "stdout",
     "output_type": "stream",
     "text": [
      "Dataset_additional/1.jpg\n",
      "Dataset_additional/2.jpg\n",
      "Dataset_additional/3.jpg\n",
      "Dataset_additional/4.jpg\n",
      "Dataset_additional/5.jpg\n",
      "Dataset_additional/6.jpg\n",
      "Dataset_additional/7.jpg\n",
      "Dataset_additional/8.jpg\n",
      "Dataset_additional/9.jpg\n",
      "Dataset_additional/10.jpg\n",
      "Dataset_additional/11.jpg\n",
      "Dataset_additional/12.jpg\n"
     ]
    }
   ],
   "source": [
    "for i in range(0,12,1):\n",
    "    #specify input address\n",
    "    file = '{}.jpg'.format(i+1)\n",
    "    #print(file) \n",
    "    \n",
    "    img = cv2.imread(file)\n",
    "    img_rgb = cv2.cvtColor(img,cv2.COLOR_BGR2RGB)\n",
    "    img_g = cv2.cvtColor(img_rgb,cv2.COLOR_RGB2GRAY)\n",
    "    \n",
    "    height, width = img_g.shape\n",
    "\n",
    "    mask = np.zeros(img_g.shape, np.uint8)\n",
    "\n",
    "    cv2.circle(img=mask,center=(int(width/32),int(height/32)),radius=5,color=255,thickness=-1)\n",
    "    cv2.circle(img=mask,center=(int(width/32),int(31*height/32)),radius=5,color=255,thickness=-1)\n",
    "    cv2.circle(img=mask,center=(int(31*width/32),int(31*height/32)),radius=5,color=255,thickness=-1)\n",
    "    \n",
    "    img_copy= cv2.cvtColor(img_g,cv2.COLOR_GRAY2RGB)\n",
    "    img_copy[:,:,0][mask == 255] = 0\n",
    "    img_copy[:,:,1][mask == 255] = 0\n",
    "    img_copy[:,:,2][mask == 255] = 255\n",
    "    \n",
    "    #specify putput address\n",
    "    save_file = 'With_dots/{}.jpg'.format(i+1)\n",
    "\n",
    "    cv2.imwrite(save_file, img_copy) "
   ]
  },
  {
   "cell_type": "code",
   "execution_count": null,
   "metadata": {},
   "outputs": [],
   "source": []
  }
 ],
 "metadata": {
  "kernelspec": {
   "display_name": "Python 3",
   "language": "python",
   "name": "python3"
  },
  "language_info": {
   "codemirror_mode": {
    "name": "ipython",
    "version": 3
   },
   "file_extension": ".py",
   "mimetype": "text/x-python",
   "name": "python",
   "nbconvert_exporter": "python",
   "pygments_lexer": "ipython3",
   "version": "3.8.3"
  }
 },
 "nbformat": 4,
 "nbformat_minor": 4
}
