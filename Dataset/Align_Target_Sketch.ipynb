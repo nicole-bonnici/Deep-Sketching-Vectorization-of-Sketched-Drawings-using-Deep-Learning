{
 "cells": [
  {
   "cell_type": "markdown",
   "metadata": {},
   "source": [
    "## Aligning Target to sketch\n",
    "\n",
    "This code is used to align the scanned targets to the sketches"
   ]
  },
  {
   "cell_type": "code",
   "execution_count": 11,
   "metadata": {},
   "outputs": [],
   "source": [
    "import cv2\n",
    "import numpy as np\n",
    "import matplotlib.pyplot as plt\n",
    "%matplotlib inline"
   ]
  },
  {
   "cell_type": "markdown",
   "metadata": {},
   "source": [
    "Loop to find the centres of the red dots as coordiantes "
   ]
  },
  {
   "cell_type": "code",
   "execution_count": 12,
   "metadata": {},
   "outputs": [],
   "source": [
    "def center_dots(dot):\n",
    "    \n",
    "    \n",
    "    dot_rgb = cv2.cvtColor(dot,cv2.COLOR_RGB2BGR)\n",
    "    dot_g = cv2.cvtColor(dot,cv2.COLOR_BGR2GRAY)\n",
    "\n",
    "    dot_hsv=cv2.cvtColor(dot, cv2.COLOR_BGR2HSV)\n",
    "    # lower mask (0-10)\n",
    "    lower_red = np.array([0,50,50])\n",
    "    upper_red = np.array([10,255,255])\n",
    "    mask0 = cv2.inRange(dot_hsv, lower_red, upper_red)\n",
    "    # upper mask (170-180)\n",
    "    lower_red = np.array([170,50,50])\n",
    "    upper_red = np.array([180,255,255])\n",
    "    mask1 = cv2.inRange(dot_hsv, lower_red, upper_red)\n",
    "    # join my masks\n",
    "    mask = mask0+mask1\n",
    "    # set my output img to zero everywhere except my mask\n",
    "    red_dot = dot.copy()\n",
    "    red_dot[np.where(mask==0)] = 0\n",
    "    red_dot[np.where(mask!=0)] = 255\n",
    "    dot_g = cv2.cvtColor(red_dot,cv2.COLOR_RGB2GRAY)\n",
    "\n",
    "    ret_dot, thr_dots=cv2.threshold(dot_g, 1,255,cv2.THRESH_BINARY)\n",
    "\n",
    "    kernel = np.ones((10,10),dtype =np.uint8)\n",
    "    dots_open = cv2.morphologyEx(thr_dots,cv2.MORPH_CLOSE,kernel)\n",
    "\n",
    "    image, contours, hiearchy = cv2.findContours(dots_open, cv2.RETR_TREE, cv2.CHAIN_APPROX_SIMPLE)\n",
    "    dots_cont = cv2.drawContours(dots_open, contours, -1, (0,255,0), 3)\n",
    "\n",
    "    xmean = np.zeros(len(contours))\n",
    "    ymean = np.zeros(len(contours))\n",
    "\n",
    "\n",
    "    for i in range(len(contours)):\n",
    "\n",
    "        xmean[i] = np.mean(contours[i][:,0][:,0])\n",
    "        ymean[i] = np.mean(contours[i][:,0][:,1])\n",
    "\n",
    "    centres = [xmean,ymean]\n",
    "    \n",
    "    return centres\n"
   ]
  },
  {
   "cell_type": "markdown",
   "metadata": {},
   "source": [
    "Loop which loads the sketch and the ground truth and aligns them and saves the aligned output in another folder. It is important that the sketch and grondtruth which is not aligned are labeled with the same number."
   ]
  },
  {
   "cell_type": "code",
   "execution_count": 14,
   "metadata": {},
   "outputs": [
    {
     "name": "stdout",
     "output_type": "stream",
     "text": [
      "12\n"
     ]
    },
    {
     "data": {
      "image/png": "[encoded data removed]",
      "text/plain": [
       "<Figure size 432x288 with 1 Axes>"
      ]
     },
     "metadata": {
      "needs_background": "light"
     },
     "output_type": "display_data"
    }
   ],
   "source": [
    "for i in range(1,30,1):\n",
    "    print(i)\n",
    "    #input address of ground truths\n",
    "    name = '{}.jpg'.format(i)\n",
    "    img_line = cv2.imread(name)\n",
    "\n",
    "    coords_line = center_dots((img_line))\n",
    "    \n",
    "    #input address of sketches\n",
    "    name = '{}.jpg'.format(i)\n",
    "    dot = cv2.imread(name)\n",
    "    size = dot.shape \n",
    "\n",
    "    img_ske =cv2.resize(dot,(size[1]*1,size[0]*1))\n",
    "    #img_ske = dot\n",
    "\n",
    "    coords_sketch = center_dots(img_ske)\n",
    "\n",
    "    orderedCoords_sketch= np.zeros( [len(coords_sketch[0]),len(coords_sketch)] )\n",
    "\n",
    "    orderedCoords_sketch[0] = (coords_sketch[0].max(),coords_sketch[1][coords_sketch[0].argmax()])\n",
    "    orderedCoords_sketch[2] = (coords_sketch[0][coords_sketch[1].argmin()],coords_sketch[1].min())\n",
    "\n",
    "    if coords_sketch[0].argmax() == 0 :\n",
    "        if coords_sketch[1].argmin() == 1:\n",
    "            orderedCoords_sketch[1] = (coords_sketch[0][2],coords_sketch[1][2])\n",
    "        if coords_line[1].argmin() == 2:\n",
    "            orderedCoords_sketch[1] = (coords_sketch[0][1],coords_sketch[1][1])\n",
    "\n",
    "    if coords_sketch[0].argmax() == 1 :\n",
    "        if coords_sketch[1].argmin() == 0:\n",
    "            orderedCoords_sketch[1] = (coords_sketch[0][2],coords_sketch[1][2])\n",
    "        if coords_line[1].argmin() == 2:\n",
    "            orderedCoords_sketch[1] = (coords_sketch[0][0],coords_sketch[1][0])\n",
    "\n",
    "    if coords_sketch[0].argmax() == 2 :\n",
    "        if coords_sketch[1].argmin() == 0:\n",
    "            orderedCoords_sketch[1] = (coords_sketch[0][1],coords_sketch[1][1])\n",
    "        if coords_sketch[1].argmin() == 1:\n",
    "            orderedCoords_sketch[1] = (coords_sketch[0][0],coords_sketch[1][0])\n",
    "\n",
    "    orderedCoords_line= np.zeros( [len(coords_line[0]),len(coords_line)] )\n",
    "\n",
    "    orderedCoords_line[0] = (coords_line[0].max(),coords_line[1][coords_line[0].argmax()])\n",
    "    orderedCoords_line[2] = (coords_line[0][coords_line[1].argmin()],coords_line[1].min())\n",
    "\n",
    "\n",
    "    if coords_line[0].argmax() == 0 :\n",
    "        if coords_line[1].argmin() == 1:\n",
    "            orderedCoords_line[1] = (coords_line[0][2],coords_line[1][2])\n",
    "        if coords_line[1].argmin() == 2:\n",
    "            orderedCoords_line[1] = (coords_line[0][1],coords_line[1][1])\n",
    "\n",
    "    if coords_line[0].argmax() == 1 :\n",
    "        if coords_line[1].argmin() == 0:\n",
    "            orderedCoords_line[1] = (coords_line[0][2],coords_line[1][2])\n",
    "        if coords_line[1].argmin() == 2:\n",
    "            orderedCoords_line[1] = (coords_line[0][0],coords_line[1][0])\n",
    "\n",
    "    if coords_line[0].argmax() == 2 :\n",
    "        if coords_line[1].argmin() == 0:\n",
    "            orderedCoords_line[1] = (coords_line[0][1],coords_line[1][1])\n",
    "        if coords_line[1].argmin() == 1:\n",
    "            orderedCoords_line[1] = (coords_line[0][0],coords_line[1][0])\n",
    "\n",
    "\n",
    "    line= np.zeros((3,2))\n",
    "    line[:,0]= orderedCoords_line[:,0]\n",
    "    line [:,1]= orderedCoords_line[:,1]\n",
    "\n",
    "    sketch= np.zeros((3,2))\n",
    "    sketch[:,0]= orderedCoords_sketch[:,0]\n",
    "    sketch[:,1]= orderedCoords_sketch[:,1]\n",
    "\n",
    "    pts_s = sketch.astype('float32')\n",
    "    pts_l = line.astype('float32')\n",
    "\n",
    "    align_matrix = cv2.getAffineTransform(pts_l, pts_s)\n",
    "\n",
    "    align_img = np.zeros(img_ske[:,:,1].shape, np.uint8);\n",
    "\n",
    "    cols,rows,ch = (img_ske.shape)\n",
    "\n",
    "    align_img = cv2.warpAffine(img_line,align_matrix, (rows,cols), flags=cv2.INTER_AREA, borderMode=cv2.BORDER_REPLICATE)\n",
    "\n",
    "    gray_line = np.zeros(img_ske[:,:,1].shape, np.uint8)\n",
    "\n",
    "    gray_line = cv2.cvtColor(align_img,cv2.COLOR_BGR2GRAY)\n",
    "\n",
    "    line_bin = np.zeros(img_ske[:,:,1].shape, np.uint8)\n",
    "\n",
    "    th, line_bin= cv2.threshold(gray_line, 254, 255, cv2.THRESH_OTSU)\n",
    "\n",
    "    mask = np.zeros(img_ske[:,:,1].shape, np.uint8)\n",
    "\n",
    "    cv2.circle(img=mask,center=(int(sketch[0][0]),int(sketch[0][1])),radius=10,color=255,thickness=-1)\n",
    "    cv2.circle(img=mask,center=(int(sketch[1][0]),int(sketch[1][1])),radius=10,color=255,thickness=-1)\n",
    "    cv2.circle(img=mask,center=(int(sketch[2][0]),int(sketch[2][1])),radius=10,color=255,thickness=-1)\n",
    "\n",
    "\n",
    "    line_bin[mask == 255] = 255\n",
    "\n",
    "    plt.imshow(line_bin ,cmap='gray')\n",
    "\n",
    "    #input address of were you want the output saved\n",
    "    sfile = '{}.jpg'.format(i)\n",
    "    cv2.imwrite(sfile, (line_bin))"
   ]
  },
  {
   "cell_type": "code",
   "execution_count": null,
   "metadata": {},
   "outputs": [],
   "source": []
  }
 ],
 "metadata": {
  "kernelspec": {
   "display_name": "Python 3",
   "language": "python",
   "name": "python3"
  },
  "language_info": {
   "codemirror_mode": {
    "name": "ipython",
    "version": 3
   },
   "file_extension": ".py",
   "mimetype": "text/x-python",
   "name": "python",
   "nbconvert_exporter": "python",
   "pygments_lexer": "ipython3",
   "version": "3.8.3"
  }
 },
 "nbformat": 4,
 "nbformat_minor": 4
}
